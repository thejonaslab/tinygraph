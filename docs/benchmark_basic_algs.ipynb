{
 "cells": [
  {
   "cell_type": "code",
   "execution_count": 1,
   "metadata": {},
   "outputs": [
    {
     "name": "stdout",
     "output_type": "stream",
     "text": [
      "Populating the interactive namespace from numpy and matplotlib\n"
     ]
    }
   ],
   "source": [
    "%pylab inline\n",
    "import numpy as np\n",
    "import pandas as pd\n",
    "import seaborn as sns\n",
    "\n",
    "import tinygraph as tg\n",
    "import sys"
   ]
  },
  {
   "cell_type": "code",
   "execution_count": 2,
   "metadata": {},
   "outputs": [],
   "source": [
    "sys.path.append('/home/williamsjl/tinygraph/tests')\n",
    "import graph_test_suite"
   ]
  },
  {
   "cell_type": "code",
   "execution_count": 3,
   "metadata": {},
   "outputs": [
    {
     "name": "stdout",
     "output_type": "stream",
     "text": [
      "Progress:0/141\n",
      "Progress:1/141\n",
      "Progress:2/141\n",
      "Progress:3/141\n",
      "Progress:4/141\n",
      "Progress:5/141\n",
      "Progress:6/141\n",
      "Progress:7/141\n",
      "Progress:8/141\n",
      "Progress:9/141\n",
      "Progress:10/141\n",
      "Progress:11/141\n",
      "Progress:12/141\n",
      "Progress:13/141\n",
      "Progress:14/141\n",
      "Progress:15/141\n",
      "Progress:16/141\n",
      "Progress:17/141\n",
      "Progress:18/141\n",
      "Progress:19/141\n",
      "Progress:20/141\n",
      "Progress:21/141\n",
      "Progress:22/141\n",
      "Progress:23/141\n",
      "Progress:24/141\n",
      "Progress:25/141\n",
      "Progress:26/141\n",
      "Progress:27/141\n",
      "Progress:28/141\n",
      "Progress:29/141\n",
      "Progress:30/141\n",
      "Progress:31/141\n",
      "Progress:32/141\n",
      "Progress:33/141\n",
      "Progress:34/141\n",
      "Progress:35/141\n",
      "Progress:36/141\n",
      "Progress:37/141\n",
      "Progress:38/141\n",
      "Progress:39/141\n",
      "Progress:40/141\n",
      "Progress:41/141\n",
      "Progress:42/141\n",
      "Progress:43/141\n",
      "Progress:44/141\n",
      "Progress:45/141\n",
      "Progress:46/141\n",
      "Progress:47/141\n",
      "Progress:48/141\n",
      "Progress:49/141\n",
      "Progress:50/141\n",
      "Progress:51/141\n",
      "Progress:52/141\n",
      "Progress:53/141\n",
      "Progress:54/141\n",
      "Progress:55/141\n",
      "Progress:56/141\n",
      "Progress:57/141\n",
      "Progress:58/141\n",
      "Progress:59/141\n",
      "Progress:60/141\n",
      "Progress:61/141\n",
      "Progress:62/141\n",
      "Progress:63/141\n",
      "Progress:64/141\n",
      "Progress:65/141\n",
      "Progress:66/141\n",
      "Progress:67/141\n",
      "Progress:68/141\n",
      "Progress:69/141\n",
      "Progress:70/141\n",
      "Progress:71/141\n",
      "Progress:72/141\n",
      "Progress:73/141\n",
      "Progress:74/141\n",
      "Progress:75/141\n",
      "Progress:76/141\n",
      "Progress:77/141\n",
      "Progress:78/141\n",
      "Progress:79/141\n",
      "Progress:80/141\n",
      "Progress:81/141\n",
      "Progress:82/141\n",
      "Progress:83/141\n",
      "Progress:84/141\n",
      "Progress:85/141\n",
      "Progress:86/141\n",
      "Progress:87/141\n",
      "Progress:88/141\n",
      "Progress:89/141\n",
      "Progress:90/141\n",
      "Progress:91/141\n",
      "Progress:92/141\n",
      "Progress:93/141\n",
      "Progress:94/141\n",
      "Progress:95/141\n",
      "Progress:96/141\n",
      "Progress:97/141\n",
      "Progress:98/141\n",
      "Progress:99/141\n",
      "Progress:100/141\n",
      "Progress:101/141\n",
      "Progress:102/141\n",
      "Progress:103/141\n",
      "Progress:104/141\n",
      "Progress:105/141\n",
      "Progress:106/141\n",
      "Progress:107/141\n",
      "Progress:108/141\n",
      "Progress:109/141\n",
      "Progress:110/141\n",
      "Progress:111/141\n",
      "Progress:112/141\n",
      "Progress:113/141\n",
      "Progress:114/141\n",
      "Progress:115/141\n",
      "Progress:116/141\n",
      "Progress:117/141\n",
      "Progress:118/141\n",
      "Progress:119/141\n",
      "Progress:120/141\n",
      "Progress:121/141\n",
      "Progress:122/141\n",
      "Progress:123/141\n",
      "random_0.1_ass 'bool'>_32\n",
      "Progress:124/141\n",
      "Progress:125/141\n",
      "Progress:126/141\n",
      "Progress:127/141\n",
      "Progress:128/141\n",
      "Progress:129/141\n",
      "Progress:130/141\n",
      "Progress:131/141\n",
      "Progress:132/141\n",
      "Progress:133/141\n",
      "Progress:134/141\n",
      "Progress:135/141\n",
      "Progress:136/141\n",
      "Progress:137/141\n",
      "Progress:138/141\n",
      "Progress:139/141\n",
      "Progress:140/141\n"
     ]
    }
   ],
   "source": [
    "out = []\n",
    "\n",
    "basic_suite = graph_test_suite.create_suite()\n",
    "vp_suite = graph_test_suite.create_suite_vert_prop()\n",
    "ep_suite = graph_test_suite.create_suite_edge_prop()\n",
    "\n",
    "suite = {**basic_suite, **vp_suite, **ep_suite}\n",
    "\n",
    "l = len(suite)\n",
    "\n",
    "for i, k in enumerate(suite.keys()):\n",
    "    print(\"Progress:\" + str(i) + \"/\" + str(l-1))\n",
    "    r = (k[:6] == \"random\")\n",
    "    for g in suite[k]:\n",
    "        \n",
    "        t1 = time.time()\n",
    "        cc = tg.algorithms.get_connected_components(g)\n",
    "        t2 = time.time()\n",
    "        cc_time = t2 - t1\n",
    "        \n",
    "        t1 = time.time()\n",
    "        cycles = tg.algorithms.get_min_cycles(g)\n",
    "        t2 = time.time()\n",
    "        cycle_time = t2 - t1\n",
    "\n",
    "        max_cycle = 0\n",
    "        for c in cycles:\n",
    "            le = len(c)\n",
    "            if le > max_cycle:\n",
    "                max_cycle = le\n",
    "        \n",
    "        res = {'N' : g.node_N, \n",
    "               'random' : r, \n",
    "               'dtype' : str(g.adjacency.dtype), \n",
    "               'n_comps' : len(cc), \n",
    "               'max_cycle' : max_cycle, \n",
    "               'cc_time_ms' : cc_time*1000, \n",
    "               'cycle_time_ms' : cycle_time*1000\n",
    "\n",
    "              }\n",
    "\n",
    "        out.append(res)\n",
    "        \n",
    "df = pd.DataFrame(out)"
   ]
  },
  {
   "cell_type": "code",
   "execution_count": 4,
   "metadata": {},
   "outputs": [
    {
     "data": {
      "text/plain": [
       "<seaborn.axisgrid.FacetGrid at 0x7f124bd55c70>"
      ]
     },
     "execution_count": 4,
     "metadata": {},
     "output_type": "execute_result"
    },
    {
     "data": {
      "image/png": "[encoded data removed]",
      "text/plain": [
       "<Figure size 360x360 with 1 Axes>"
      ]
     },
     "metadata": {
      "needs_background": "light"
     },
     "output_type": "display_data"
    }
   ],
   "source": [
    "sns.catplot(x='N', y='cc_time_ms', data=df, kind='point')"
   ]
  },
  {
   "cell_type": "code",
   "execution_count": 5,
   "metadata": {},
   "outputs": [
    {
     "data": {
      "text/plain": [
       "<seaborn.axisgrid.FacetGrid at 0x7f124b1b2eb0>"
      ]
     },
     "execution_count": 5,
     "metadata": {},
     "output_type": "execute_result"
    },
    {
     "data": {
      "image/png": "[encoded data removed]",
      "text/plain": [
       "<Figure size 360x360 with 1 Axes>"
      ]
     },
     "metadata": {
      "needs_background": "light"
     },
     "output_type": "display_data"
    }
   ],
   "source": [
    "sns.catplot(x='N', y='cycle_time_ms', data=df, kind='point')"
   ]
  },
  {
   "cell_type": "code",
   "execution_count": null,
   "metadata": {},
   "outputs": [],
   "source": []
  }
 ],
 "metadata": {
  "kernelspec": {
   "display_name": "Python 3",
   "language": "python",
   "name": "python3"
  },
  "language_info": {
   "codemirror_mode": {
    "name": "ipython",
    "version": 3
   },
   "file_extension": ".py",
   "mimetype": "text/x-python",
   "name": "python",
   "nbconvert_exporter": "python",
   "pygments_lexer": "ipython3",
   "version": "3.8.5"
  }
 },
 "nbformat": 4,
 "nbformat_minor": 4
}
