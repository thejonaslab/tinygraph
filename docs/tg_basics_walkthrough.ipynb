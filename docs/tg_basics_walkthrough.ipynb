{
 "cells": [
  {
   "cell_type": "markdown",
   "metadata": {},
   "source": [
    "# TinyGraph Basics Walkthrough\n",
    "\n",
    "This walkthrough will demonstrate the basic functionality of TinyGraph, and show the most important features and algorithms."
   ]
  },
  {
   "cell_type": "code",
   "execution_count": 1,
   "metadata": {},
   "outputs": [],
   "source": [
    "import numpy as np\n",
    "import networkx as nx\n",
    "\n",
    "import tinygraph as tg"
   ]
  },
  {
   "cell_type": "markdown",
   "metadata": {},
   "source": [
    "TinyGraph is a package that uses numpy arrays, so we recommend importing numpy in order to get the most out of TinyGraph. Networkx is also useful as it interfaces well with TinyGraph and has additional features.\n",
    "\n",
    "Setting up a graph can be done simply by initializing the number of vertices in the graph. By default, edge weights are floats, and can be assigned as shown here."
   ]
  },
  {
   "cell_type": "code",
   "execution_count": 2,
   "metadata": {},
   "outputs": [
    {
     "name": "stdout",
     "output_type": "stream",
     "text": [
      "10\n",
      "2\n"
     ]
    }
   ],
   "source": [
    "vertex_n = 10\n",
    "g = tg.TinyGraph(vertex_n)\n",
    "\n",
    "g[0,1] = 2.7\n",
    "g[3,4] = 3.1\n",
    "\n",
    "print(g.vert_N)\n",
    "print(g.edge_N)"
   ]
  },
  {
   "cell_type": "markdown",
   "metadata": {},
   "source": [
    "TinyGraph also supports vertex and edge properties. Properties, including edge weight types can be of any type. However, they will be stored in numpy array, so using numpy types can improve performance. Edge and vertex properties can be accessed using .e and .v, respectively. Edge weights, edge properties, and vertex properties are all given default 0 values on initialization, where the default 0 for booleans is False and for strings it is an empty string."
   ]
  },
  {
   "cell_type": "code",
   "execution_count": 3,
   "metadata": {},
   "outputs": [
    {
     "name": "stdout",
     "output_type": "stream",
     "text": [
      "Vertices:\n",
      "0: {'color': 10, 'is_special': False}\n",
      "1: {'color': 10, 'is_special': False}\n",
      "2: {'color': 10, 'is_special': False}\n",
      "3: {'color': 10, 'is_special': False}\n",
      "4: {'color': 10, 'is_special': False}\n",
      "5: {'color': 10, 'is_special': True}\n",
      "6: {'color': 10, 'is_special': False}\n",
      "7: {'color': 10, 'is_special': False}\n",
      "8: {'color': 10, 'is_special': False}\n",
      "9: {'color': 10, 'is_special': False}\n",
      "\n",
      "Edges:\n",
      "(0, 1): Weight - 1, Props - {'width': 0}\n",
      "(3, 4): Weight - 2, Props - {'width': 4}\n"
     ]
    }
   ],
   "source": [
    "g = tg.TinyGraph(vertex_n,adj_type=np.int32,vp_types={'color': np.int32,\n",
    "                                                      'is_special': np.bool},\n",
    "                                            ep_types={'width': np.int32})\n",
    "\n",
    "g[0,1] = 1\n",
    "g[3,4] = 2\n",
    "\n",
    "g.v['is_special'][5] = True\n",
    "g.v['color'][:] = 10\n",
    "\n",
    "g.e['width'][3,4] = 4\n",
    "\n",
    "print(g)"
   ]
  },
  {
   "cell_type": "markdown",
   "metadata": {},
   "source": [
    "Attempting to access or set edge properties for edges that do not exist will throw an error."
   ]
  },
  {
   "cell_type": "code",
   "execution_count": 4,
   "metadata": {},
   "outputs": [
    {
     "ename": "IndexError",
     "evalue": "No such edge.",
     "output_type": "error",
     "traceback": [
      "\u001b[0;31m---------------------------------------------------------------------------\u001b[0m",
      "\u001b[0;31mIndexError\u001b[0m                                Traceback (most recent call last)",
      "\u001b[0;32m<ipython-input-4-5e287c23436d>\u001b[0m in \u001b[0;36m<module>\u001b[0;34m\u001b[0m\n\u001b[0;32m----> 1\u001b[0;31m \u001b[0mg\u001b[0m\u001b[0;34m.\u001b[0m\u001b[0me\u001b[0m\u001b[0;34m[\u001b[0m\u001b[0;34m'width'\u001b[0m\u001b[0;34m]\u001b[0m\u001b[0;34m[\u001b[0m\u001b[0;36m2\u001b[0m\u001b[0;34m,\u001b[0m\u001b[0;36m8\u001b[0m\u001b[0;34m]\u001b[0m \u001b[0;34m=\u001b[0m \u001b[0;36m12\u001b[0m\u001b[0;34m\u001b[0m\u001b[0;34m\u001b[0m\u001b[0m\n\u001b[0m",
      "\u001b[0;32m/data/williamsjl/anaconda3/envs/rdkit-ready/lib/python3.7/site-packages/tinygraph-0.1-py3.7-linux-x86_64.egg/tinygraph/tinygraph.py\u001b[0m in \u001b[0;36m__setitem__\u001b[0;34m(self, key, value)\u001b[0m\n\u001b[1;32m     75\u001b[0m             \u001b[0me1\u001b[0m\u001b[0;34m,\u001b[0m \u001b[0me2\u001b[0m \u001b[0;34m=\u001b[0m \u001b[0mkey\u001b[0m\u001b[0;34m\u001b[0m\u001b[0;34m\u001b[0m\u001b[0m\n\u001b[1;32m     76\u001b[0m             \u001b[0;32mif\u001b[0m \u001b[0mself\u001b[0m\u001b[0;34m.\u001b[0m\u001b[0m__g\u001b[0m\u001b[0;34m[\u001b[0m\u001b[0me1\u001b[0m\u001b[0;34m,\u001b[0m \u001b[0me2\u001b[0m\u001b[0;34m]\u001b[0m \u001b[0;34m==\u001b[0m \u001b[0mdefault_zero\u001b[0m\u001b[0;34m(\u001b[0m\u001b[0mself\u001b[0m\u001b[0;34m.\u001b[0m\u001b[0mdtype\u001b[0m\u001b[0;34m)\u001b[0m\u001b[0;34m:\u001b[0m\u001b[0;34m\u001b[0m\u001b[0;34m\u001b[0m\u001b[0m\n\u001b[0;32m---> 77\u001b[0;31m                 \u001b[0;32mraise\u001b[0m \u001b[0mIndexError\u001b[0m\u001b[0;34m(\u001b[0m\u001b[0;34m\"No such edge.\"\u001b[0m\u001b[0;34m)\u001b[0m\u001b[0;34m\u001b[0m\u001b[0;34m\u001b[0m\u001b[0m\n\u001b[0m\u001b[1;32m     78\u001b[0m             \u001b[0;32melse\u001b[0m\u001b[0;34m:\u001b[0m\u001b[0;34m\u001b[0m\u001b[0;34m\u001b[0m\u001b[0m\n\u001b[1;32m     79\u001b[0m                 \u001b[0mself\u001b[0m\u001b[0;34m.\u001b[0m\u001b[0m__g\u001b[0m\u001b[0;34m.\u001b[0m\u001b[0me_p\u001b[0m\u001b[0;34m[\u001b[0m\u001b[0mself\u001b[0m\u001b[0;34m.\u001b[0m\u001b[0m__prop\u001b[0m\u001b[0;34m]\u001b[0m\u001b[0;34m[\u001b[0m\u001b[0me1\u001b[0m\u001b[0;34m,\u001b[0m \u001b[0me2\u001b[0m\u001b[0;34m]\u001b[0m \u001b[0;34m=\u001b[0m \u001b[0mvalue\u001b[0m\u001b[0;34m\u001b[0m\u001b[0;34m\u001b[0m\u001b[0m\n",
      "\u001b[0;31mIndexError\u001b[0m: No such edge."
     ]
    }
   ],
   "source": [
    "g.e['width'][2,8] = 12"
   ]
  },
  {
   "cell_type": "markdown",
   "metadata": {},
   "source": [
    "We also have simple functions for looping over the edges and vertices, given a list of properties to return. The properties will be returned in a map for each edge or vertex. For each edge, the weight can also be returned, if the parameter is passed as True."
   ]
  },
  {
   "cell_type": "code",
   "execution_count": 5,
   "metadata": {},
   "outputs": [
    {
     "name": "stdout",
     "output_type": "stream",
     "text": [
      "0 1 1 0\n",
      "3 4 2 4\n"
     ]
    }
   ],
   "source": [
    "for e1, e2, w, props in g.edges(True, ['width']):\n",
    "    print(e1, e2, w, props['width'])"
   ]
  },
  {
   "cell_type": "code",
   "execution_count": 6,
   "metadata": {},
   "outputs": [
    {
     "name": "stdout",
     "output_type": "stream",
     "text": [
      "5 10\n"
     ]
    }
   ],
   "source": [
    "for v, props in g.vertices(['color','is_special']):\n",
    "    if props['is_special']:\n",
    "        print(v, props['color'])"
   ]
  },
  {
   "cell_type": "markdown",
   "metadata": {},
   "source": [
    "There are other functions for making copies, getting a vertex's neighbors and adding or removing vertices, edge properties or vertex properties. Edges can be removed by setting their weight to 0. "
   ]
  },
  {
   "cell_type": "markdown",
   "metadata": {},
   "source": [
    "# Working with Networkx"
   ]
  },
  {
   "cell_type": "markdown",
   "metadata": {},
   "source": [
    "Networkx has an extensive library of graph functions, including for generating and displaying graphs. TinyGraph provides easy interface with networkx to take advantage of those functions."
   ]
  },
  {
   "cell_type": "code",
   "execution_count": 7,
   "metadata": {},
   "outputs": [
    {
     "data": {
      "image/png": "[encoded data removed]",
      "text/plain": [
       "<Figure size 432x288 with 1 Axes>"
      ]
     },
     "metadata": {},
     "output_type": "display_data"
    }
   ],
   "source": [
    "ng = nx.generators.classic.cycle_graph(4) \n",
    "ng.graph['name'] = \"Cycle\" \n",
    "ng.nodes[0]['color'] = 0\n",
    "ng.nodes[1]['color'] = 1\n",
    "ng.nodes[2]['color'] = 0 \n",
    "ng.nodes[3]['color'] = 1 \n",
    "ng.edges[0, 1]['weight'] = 1\n",
    "ng.edges[1, 2]['weight'] = 2\n",
    "ng.edges[2, 3]['weight'] = 3\n",
    "ng.edges[3, 0]['weight'] = 4\n",
    "\n",
    "node_colors = [0, 1, 0, 1] \n",
    "nx.draw(ng, node_color=node_colors)"
   ]
  },
  {
   "cell_type": "code",
   "execution_count": 8,
   "metadata": {},
   "outputs": [
    {
     "name": "stdout",
     "output_type": "stream",
     "text": [
      "[(0, {'color': 0}), (1, {'color': 1}), (2, {'color': 0}), (3, {'color': 1})]\n",
      "[(0, 1, {'weight': 1}), (0, 3, {'weight': 4}), (1, 2, {'weight': 2}), (2, 3, {'weight': 3})]\n"
     ]
    }
   ],
   "source": [
    "print(ng.nodes.data()) \n",
    "print(ng.edges.data())"
   ]
  },
  {
   "cell_type": "markdown",
   "metadata": {},
   "source": [
    "Using TinyGraph's to and from networkx functions, we can get translate between networkx and TinyGraph accurately."
   ]
  },
  {
   "cell_type": "code",
   "execution_count": 9,
   "metadata": {},
   "outputs": [
    {
     "name": "stdout",
     "output_type": "stream",
     "text": [
      "[[0. 1. 0. 1.]\n",
      " [1. 0. 1. 0.]\n",
      " [0. 1. 0. 1.]\n",
      " [1. 0. 1. 0.]]\n",
      "Vertices:\n",
      "0: {'color': 0, 'name': '0'}\n",
      "1: {'color': 1, 'name': '1'}\n",
      "2: {'color': 0, 'name': '2'}\n",
      "3: {'color': 1, 'name': '3'}\n",
      "\n",
      "Edges:\n",
      "(0, 1): Weight - 1.0, Props - {}\n",
      "(0, 3): Weight - 1.0, Props - {}\n",
      "(1, 2): Weight - 1.0, Props - {}\n",
      "(2, 3): Weight - 1.0, Props - {}\n"
     ]
    }
   ],
   "source": [
    "g = tg.io.from_nx(ng, name_prop='name', vp_types={'color': np.int}) \n",
    "print(g.adjacency)\n",
    "print(g)"
   ]
  },
  {
   "cell_type": "code",
   "execution_count": 10,
   "metadata": {},
   "outputs": [
    {
     "name": "stdout",
     "output_type": "stream",
     "text": [
      "[('0', {'color': 0}), ('1', {'color': 1}), ('2', {'color': 0}), ('3', {'color': 1})]\n"
     ]
    }
   ],
   "source": [
    "print(tg.io.to_nx(g, name_prop='name').nodes.data())"
   ]
  },
  {
   "cell_type": "markdown",
   "metadata": {},
   "source": [
    "# Working with RDKit"
   ]
  },
  {
   "cell_type": "markdown",
   "metadata": {},
   "source": [
    "TinyGraph was developed with the intention of being used as a way to perform graph algorithms on molecules. We therefore provide easy interfacing with RDKit, including to and from the RDKit molecules."
   ]
  },
  {
   "cell_type": "code",
   "execution_count": 11,
   "metadata": {},
   "outputs": [
    {
     "data": {
      "image/png": "[encoded data removed]",
      "text/plain": [
       "<Figure size 432x288 with 1 Axes>"
      ]
     },
     "metadata": {},
     "output_type": "display_data"
    }
   ],
   "source": [
    "from rdkit import Chem \n",
    "import tinygraph.io.rdkit\n",
    "\n",
    "mol = Chem.MolFromSmiles('CC')\n",
    "mol = Chem.AddHs(mol)\n",
    "g = tg.io.rdkit.from_rdkit_mol(mol, use_charge=True, use_chiral=True) \n",
    "nx.draw(tg.io.to_nx(g))"
   ]
  },
  {
   "cell_type": "code",
   "execution_count": 12,
   "metadata": {},
   "outputs": [
    {
     "name": "stdout",
     "output_type": "stream",
     "text": [
      "[H]C([H])([H])C([H])([H])[H]\n"
     ]
    }
   ],
   "source": [
    "new_mol = tg.io.rdkit.to_rdkit_mol(g, charge_prop='charge',chiral_prop='chiral')\n",
    "new_smiles = Chem.MolToSmiles(new_mol) \n",
    "print(new_smiles)"
   ]
  },
  {
   "cell_type": "markdown",
   "metadata": {},
   "source": [
    "# Algorithms"
   ]
  },
  {
   "cell_type": "markdown",
   "metadata": {},
   "source": [
    "TinyGraph implements its own version of common graph algorithms which are efficient on the small, undirected, self-loop free graphs we use."
   ]
  },
  {
   "cell_type": "code",
   "execution_count": 13,
   "metadata": {},
   "outputs": [
    {
     "data": {
      "image/png": "[encoded data removed]",
      "text/plain": [
       "<Figure size 432x288 with 1 Axes>"
      ]
     },
     "metadata": {},
     "output_type": "display_data"
    }
   ],
   "source": [
    "import tinygraph.algorithms as algs\n",
    "\n",
    "g3 = tg.TinyGraph(vertex_n,adj_type=np.int32,vp_types={'color': np.int32,\n",
    "                                                      'is_special': np.bool},\n",
    "                                            ep_types={'width': np.int32})\n",
    "\n",
    "g3[0,1] = 1\n",
    "g3[3,4] = 2\n",
    "g3[1,2] = 2\n",
    "g3[0,2] = 1\n",
    "g3[0,3] = 1\n",
    "g3[4,5] = 1\n",
    "g3[0,5] = 4\n",
    "g3[6,7] = 1\n",
    "g3[8,9] = 2\n",
    "nx_g = tg.io.to_nx(g3)\n",
    "nx.draw(nx_g)"
   ]
  },
  {
   "cell_type": "markdown",
   "metadata": {},
   "source": [
    "Using this small graph, we demonstrate our connected components, minimum cycles and shortest paths algorithms. \n",
    "\n",
    "The connected components are returned as a list of components, with each component represented by a set containing the vertices in that component."
   ]
  },
  {
   "cell_type": "code",
   "execution_count": 14,
   "metadata": {},
   "outputs": [
    {
     "name": "stdout",
     "output_type": "stream",
     "text": [
      "[{0, 1, 2, 3, 4, 5}, {6, 7}, {8, 9}]\n"
     ]
    }
   ],
   "source": [
    "print(algs.get_connected_components(g3))"
   ]
  },
  {
   "cell_type": "markdown",
   "metadata": {},
   "source": [
    "The minimum cycles algorithm calculates the smallest cycle that each vertex is a part of. It returns the cycles as set of each vertex in the cycle. It returns a list of cycles, indexed by vertex, so that the 0th element of the list corresponds to vertex 0. "
   ]
  },
  {
   "cell_type": "code",
   "execution_count": 15,
   "metadata": {},
   "outputs": [
    {
     "name": "stdout",
     "output_type": "stream",
     "text": [
      "[{0, 1, 2}, {0, 1, 2}, {0, 1, 2}, {0, 3, 4, 5}, {0, 3, 4, 5}, {0, 3, 4, 5}, set(), set(), set(), set()]\n"
     ]
    }
   ],
   "source": [
    "print(algs.get_min_cycles(g3))"
   ]
  },
  {
   "cell_type": "markdown",
   "metadata": {},
   "source": [
    "Shortest paths similarly returns a list, indexed by vertex. Each element of the list is another list, again indexed by vertex, and the elements are the length of the shortest path between the two vertices. The length of the path can be calculated using the weights of the edges or not. "
   ]
  },
  {
   "cell_type": "code",
   "execution_count": 16,
   "metadata": {},
   "outputs": [
    {
     "name": "stdout",
     "output_type": "stream",
     "text": [
      "1.0\n",
      "4.0\n"
     ]
    }
   ],
   "source": [
    "sp_w = algs.get_shortest_paths(g3, True)\n",
    "sp_uw = algs.get_shortest_paths(g3, False)\n",
    "\n",
    "print(sp_uw[0][5])\n",
    "print(sp_w[0][5])"
   ]
  },
  {
   "cell_type": "markdown",
   "metadata": {},
   "source": [
    "# Saving and Loading TinyGraphs"
   ]
  },
  {
   "cell_type": "markdown",
   "metadata": {},
   "source": [
    "TinyGraph has functions for saving and loading graphs to and from binary. The expectation is that there may be datasets containing millions of graphs. TinyGraph's io has been benchmarked for strong space and time performance on saving and loading. "
   ]
  },
  {
   "cell_type": "code",
   "execution_count": 17,
   "metadata": {},
   "outputs": [
    {
     "name": "stdout",
     "output_type": "stream",
     "text": [
      "b'PK\\x03\\x04\\x14\\x00\\x00\\x00\\x08\\x00\\x00\\x00!\\x00\\x00\\xd31\\x19[\\x00\\x00\\x00\\x80\\x01\\x00\\x00\\r\\x00\\x14\\x00adjacency.npy\\x01\\x00\\x10\\x00\\x80\\x01\\x00\\x00\\x00\\x00\\x00\\x00[\\x00\\x00\\x00\\x00\\x00\\x00\\x00\\x9b\\xec\\x17\\xea\\x1b\\x10\\xc9\\xc8P\\xc6P\\xad\\x9e\\x92Z\\x9c\\\\\\xa4n\\xa5\\xa0n\\x93f\\xa2\\xae\\xa3\\xa0\\x9e\\x96_TR\\x94\\x98\\x17\\x9f_\\x94\\x92\\n\\x12wK\\xcc)N\\x05\\x8a\\x17g$\\x16\\xa4\\x02\\xf9\\x1a\\x16:\\n\\x16\\x9a:\\n\\xb5\\nd\\x03.\\x060h\\xb0G\\xc5\\xc8\\x00\\x9dOH=6\\xb5\\x94\\xc8S\\xc3\\x0c\\xdc\\xf2\\x00PK\\x03\\x04\\x14\\x00\\x00\\x00\\x08\\x00\\x00\\x00!\\x00#E\\x0c\\x96I\\x00\\x00\\x00\\x88\\x00\\x00\\x00\\x0f\\x00\\x14\\x00vp_atomicno.npy\\x01\\x00\\x10\\x00\\x88\\x00\\x00\\x00\\x00\\x00\\x00\\x00I\\x00\\x00\\x00\\x00\\x00\\x00\\x00\\x9b\\xec\\x17\\xea\\x1b\\x10\\xc9\\xc8P\\xc6P\\xad\\x9e\\x92Z\\x9c\\\\\\xa4n\\xa5\\xa0^Sj\\xa8\\xae\\xa3\\xa0\\x9e\\x96_TR\\x94\\x98\\x17\\x9f_\\x94\\x92\\n\\x12wK\\xcc)N\\x05\\x8a\\x17g$\\x16\\xa4\\x02\\xf9\\x1a\\x16:\\x9a:\\n\\xb5\\n\\x14\\x00.66F0\\x00\\x00PK\\x03\\x04\\x14\\x00\\x00\\x00\\x08\\x00\\x00\\x00!\\x00\\xa9\\xdc\\xed\\xfaG\\x00\\x00\\x00\\x88\\x00\\x00\\x00\\r\\x00\\x14\\x00vp_charge.npy\\x01\\x00\\x10\\x00\\x88\\x00\\x00\\x00\\x00\\x00\\x00\\x00G\\x00\\x00\\x00\\x00\\x00\\x00\\x00\\x9b\\xec\\x17\\xea\\x1b\\x10\\xc9\\xc8P\\xc6P\\xad\\x9e\\x92Z\\x9c\\\\\\xa4n\\xa5\\xa0^\\x93i\\xa8\\xae\\xa3\\xa0\\x9e\\x96_TR\\x94\\x98\\x17\\x9f_\\x94\\x92\\n\\x12wK\\xcc)N\\x05\\x8a\\x17g$\\x16\\xa4\\x02\\xf9\\x1a\\x16:\\x9a:\\n\\xb5\\n\\x14\\x00.\\x06(\\x00\\x00PK\\x03\\x04\\x14\\x00\\x00\\x00\\x08\\x00\\x00\\x00!\\x00\\xa9\\xdc\\xed\\xfaG\\x00\\x00\\x00\\x88\\x00\\x00\\x00\\r\\x00\\x14\\x00vp_chiral.npy\\x01\\x00\\x10\\x00\\x88\\x00\\x00\\x00\\x00\\x00\\x00\\x00G\\x00\\x00\\x00\\x00\\x00\\x00\\x00\\x9b\\xec\\x17\\xea\\x1b\\x10\\xc9\\xc8P\\xc6P\\xad\\x9e\\x92Z\\x9c\\\\\\xa4n\\xa5\\xa0^\\x93i\\xa8\\xae\\xa3\\xa0\\x9e\\x96_TR\\x94\\x98\\x17\\x9f_\\x94\\x92\\n\\x12wK\\xcc)N\\x05\\x8a\\x17g$\\x16\\xa4\\x02\\xf9\\x1a\\x16:\\x9a:\\n\\xb5\\n\\x14\\x00.\\x06(\\x00\\x00PK\\x01\\x02\\x14\\x03\\x14\\x00\\x00\\x00\\x08\\x00\\x00\\x00!\\x00\\x00\\xd31\\x19[\\x00\\x00\\x00\\x80\\x01\\x00\\x00\\r\\x00\\x00\\x00\\x00\\x00\\x00\\x00\\x00\\x00\\x00\\x00\\x80\\x01\\x00\\x00\\x00\\x00adjacency.npyPK\\x01\\x02\\x14\\x03\\x14\\x00\\x00\\x00\\x08\\x00\\x00\\x00!\\x00#E\\x0c\\x96I\\x00\\x00\\x00\\x88\\x00\\x00\\x00\\x0f\\x00\\x00\\x00\\x00\\x00\\x00\\x00\\x00\\x00\\x00\\x00\\x80\\x01\\x9a\\x00\\x00\\x00vp_atomicno.npyPK\\x01\\x02\\x14\\x03\\x14\\x00\\x00\\x00\\x08\\x00\\x00\\x00!\\x00\\xa9\\xdc\\xed\\xfaG\\x00\\x00\\x00\\x88\\x00\\x00\\x00\\r\\x00\\x00\\x00\\x00\\x00\\x00\\x00\\x00\\x00\\x00\\x00\\x80\\x01$\\x01\\x00\\x00vp_charge.npyPK\\x01\\x02\\x14\\x03\\x14\\x00\\x00\\x00\\x08\\x00\\x00\\x00!\\x00\\xa9\\xdc\\xed\\xfaG\\x00\\x00\\x00\\x88\\x00\\x00\\x00\\r\\x00\\x00\\x00\\x00\\x00\\x00\\x00\\x00\\x00\\x00\\x00\\x80\\x01\\xaa\\x01\\x00\\x00vp_chiral.npyPK\\x05\\x06\\x00\\x00\\x00\\x00\\x04\\x00\\x04\\x00\\xee\\x00\\x00\\x000\\x02\\x00\\x00\\x00\\x00'\n"
     ]
    }
   ],
   "source": [
    "import io\n",
    "outbuf = io.BytesIO()\n",
    "tg.io.to_binary(g, outbuf)\n",
    "s = outbuf.getvalue() # mostly not human-readable but great for writing to disk! \n",
    "print(s)"
   ]
  },
  {
   "cell_type": "code",
   "execution_count": 18,
   "metadata": {},
   "outputs": [
    {
     "name": "stdout",
     "output_type": "stream",
     "text": [
      "Vertices:\n",
      "0: {'atomicno': 6, 'charge': 0, 'chiral': 0}\n",
      "1: {'atomicno': 6, 'charge': 0, 'chiral': 0}\n",
      "2: {'atomicno': 1, 'charge': 0, 'chiral': 0}\n",
      "3: {'atomicno': 1, 'charge': 0, 'chiral': 0}\n",
      "4: {'atomicno': 1, 'charge': 0, 'chiral': 0}\n",
      "5: {'atomicno': 1, 'charge': 0, 'chiral': 0}\n",
      "6: {'atomicno': 1, 'charge': 0, 'chiral': 0}\n",
      "7: {'atomicno': 1, 'charge': 0, 'chiral': 0}\n",
      "\n",
      "Edges:\n",
      "(0, 1): Weight - 1.0, Props - {}\n",
      "(0, 2): Weight - 1.0, Props - {}\n",
      "(0, 3): Weight - 1.0, Props - {}\n",
      "(0, 4): Weight - 1.0, Props - {}\n",
      "(1, 5): Weight - 1.0, Props - {}\n",
      "(1, 6): Weight - 1.0, Props - {}\n",
      "(1, 7): Weight - 1.0, Props - {}\n"
     ]
    }
   ],
   "source": [
    "inbuf = io.BytesIO(s)\n",
    "g2 = tg.io.from_binary(inbuf) \n",
    "print(g2)"
   ]
  },
  {
   "cell_type": "markdown",
   "metadata": {},
   "source": [
    "# Extra Utilities: Permute, Subgraph, and Merge"
   ]
  },
  {
   "cell_type": "markdown",
   "metadata": {},
   "source": [
    "Lastly, TinyGraph provides graph utility functions for ease of use. This includes graph equality, permuting graphs, taking subgraphs and merging graphs.\n",
    "\n",
    "To permute a graph, pass any map from the old vertices to the new vertices. Permute returns a new graph, translating over the edges, weights and properties from the original. "
   ]
  },
  {
   "cell_type": "code",
   "execution_count": 19,
   "metadata": {},
   "outputs": [
    {
     "name": "stdout",
     "output_type": "stream",
     "text": [
      "Vertices:\n",
      "0: {'atomicno': 1, 'charge': 0, 'chiral': 0}\n",
      "1: {'atomicno': 1, 'charge': 0, 'chiral': 0}\n",
      "2: {'atomicno': 6, 'charge': 0, 'chiral': 0}\n",
      "3: {'atomicno': 1, 'charge': 0, 'chiral': 0}\n",
      "4: {'atomicno': 1, 'charge': 0, 'chiral': 0}\n",
      "5: {'atomicno': 6, 'charge': 0, 'chiral': 0}\n",
      "6: {'atomicno': 1, 'charge': 0, 'chiral': 0}\n",
      "7: {'atomicno': 1, 'charge': 0, 'chiral': 0}\n",
      "\n",
      "Edges:\n",
      "(0, 5): Weight - 1.0, Props - {}\n",
      "(1, 5): Weight - 1.0, Props - {}\n",
      "(2, 3): Weight - 1.0, Props - {}\n",
      "(2, 4): Weight - 1.0, Props - {}\n",
      "(2, 5): Weight - 1.0, Props - {}\n",
      "(2, 6): Weight - 1.0, Props - {}\n",
      "(5, 7): Weight - 1.0, Props - {}\n"
     ]
    }
   ],
   "source": [
    "perm = {0: 5, 1: 2, 2:1, 3: 7, 4:0, 5: 6, 6: 4, 7: 3} \n",
    "# 0 -> 5, 1->2, etc.\n",
    "g_permuted = tg.util.permute(g, perm) \n",
    "print(g_permuted)"
   ]
  },
  {
   "cell_type": "markdown",
   "metadata": {},
   "source": [
    "Subgraph takes in an iterable and returns a new graph with only the provided vertices, reindexed by their position on the iterable. Edges and properties are again brought over."
   ]
  },
  {
   "cell_type": "code",
   "execution_count": 20,
   "metadata": {},
   "outputs": [
    {
     "name": "stdout",
     "output_type": "stream",
     "text": [
      "Vertices:\n",
      "0: {'atomicno': 6, 'charge': 0, 'chiral': 0}\n",
      "1: {'atomicno': 6, 'charge': 0, 'chiral': 0}\n",
      "\n",
      "Edges:\n",
      "(0, 1): Weight - 1.0, Props - {}\n"
     ]
    }
   ],
   "source": [
    "just_carbons = set([0, 1])\n",
    "g_c = tg.util.subgraph(g, just_carbons) \n",
    "print(g_c)"
   ]
  },
  {
   "cell_type": "markdown",
   "metadata": {},
   "source": [
    "Lastly, merge combines two graphs, putting the first graph's vertices as the first vertices. Edges and properties are maintained where possible, with default values put in if a property is not present in one of the graphs. When collisions occur, priority is given to the first graph, such as if the adjacency matrix data types are different."
   ]
  },
  {
   "cell_type": "code",
   "execution_count": 21,
   "metadata": {},
   "outputs": [
    {
     "name": "stdout",
     "output_type": "stream",
     "text": [
      "Vertices:\n",
      "0: {'atomicno': 6, 'charge': 0, 'chiral': 0}\n",
      "1: {'atomicno': 6, 'charge': 0, 'chiral': 0}\n",
      "2: {'atomicno': 6, 'charge': 0, 'chiral': 0}\n",
      "3: {'atomicno': 6, 'charge': 0, 'chiral': 0}\n",
      "4: {'atomicno': 1, 'charge': 0, 'chiral': 0}\n",
      "5: {'atomicno': 1, 'charge': 0, 'chiral': 0}\n",
      "6: {'atomicno': 1, 'charge': 0, 'chiral': 0}\n",
      "7: {'atomicno': 1, 'charge': 0, 'chiral': 0}\n",
      "8: {'atomicno': 1, 'charge': 0, 'chiral': 0}\n",
      "9: {'atomicno': 1, 'charge': 0, 'chiral': 0}\n",
      "\n",
      "Edges:\n",
      "(0, 1): Weight - 1.0, Props - {}\n",
      "(2, 3): Weight - 1.0, Props - {}\n",
      "(2, 4): Weight - 1.0, Props - {}\n",
      "(2, 5): Weight - 1.0, Props - {}\n",
      "(2, 6): Weight - 1.0, Props - {}\n",
      "(3, 7): Weight - 1.0, Props - {}\n",
      "(3, 8): Weight - 1.0, Props - {}\n",
      "(3, 9): Weight - 1.0, Props - {}\n"
     ]
    }
   ],
   "source": [
    "g_both = tg.util.merge(g_c, g) \n",
    "print(g_both)"
   ]
  },
  {
   "cell_type": "code",
   "execution_count": null,
   "metadata": {},
   "outputs": [],
   "source": []
  }
 ],
 "metadata": {
  "kernelspec": {
   "display_name": "Python 3",
   "language": "python",
   "name": "python3"
  },
  "language_info": {
   "codemirror_mode": {
    "name": "ipython",
    "version": 3
   },
   "file_extension": ".py",
   "mimetype": "text/x-python",
   "name": "python",
   "nbconvert_exporter": "python",
   "pygments_lexer": "ipython3",
   "version": "3.7.9"
  }
 },
 "nbformat": 4,
 "nbformat_minor": 4
}
